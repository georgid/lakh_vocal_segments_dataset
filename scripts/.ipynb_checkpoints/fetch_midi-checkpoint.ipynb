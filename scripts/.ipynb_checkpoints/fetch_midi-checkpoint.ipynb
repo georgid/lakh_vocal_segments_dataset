{
 "cells": [
  {
   "cell_type": "code",
   "execution_count": 1,
   "metadata": {
    "collapsed": false
   },
   "outputs": [],
   "source": [
    "####### imports and scripts (from http://colinraffel.com/projects/lmd/)\n",
    "\n",
    "# Imports\n",
    "import numpy as np\n",
    "%matplotlib inline\n",
    "import pretty_midi\n",
    "# import mir_eval.display\n",
    "#import tables\n",
    "import os\n",
    "import json\n",
    "import csv\n",
    "import sys\n",
    "\n",
    "# Local path constants\n",
    "DATA = 'data'\n",
    "RESULTS_PATH = '/Users/joro/workspace/lakh_vocal_segments_dataset/'\n",
    "# Path to the file match_scores.json distributed with the LMD\n",
    "SCORE_FILE = os.path.join(RESULTS_PATH, 'match_scores.json')\n",
    "\n",
    "# Utility functions for retrieving paths\n",
    "def msd_id_to_dirs(msd_id):\n",
    "    \"\"\"Given an MSD ID, generate the path prefix.\n",
    "    E.g. TRABCD12345678 -> A/B/C/TRABCD12345678\"\"\"\n",
    "    return os.path.join(msd_id[2], msd_id[3], msd_id[4], msd_id)\n",
    "\n",
    "def msd_id_to_mp3(msd_id):\n",
    "    \"\"\"Given an MSD ID, return the path to the corresponding mp3\"\"\"\n",
    "    return os.path.join(DATA, 'msd', 'mp3',\n",
    "                        msd_id_to_dirs(msd_id) + '.mp3')\n",
    "\n",
    "def msd_id_to_h5(h5):\n",
    "    \"\"\"Given an MSD ID, return the path to the corresponding h5\"\"\"\n",
    "    return os.path.join(RESULTS_PATH, 'lmd_matched_h5',\n",
    "                        msd_id_to_dirs(msd_id) + '.h5')\n",
    "\n",
    "def get_midi_path(msd_id, midi_md5, kind):\n",
    "    \"\"\"Given an MSD ID and MIDI MD5, return path to a MIDI file.\n",
    "    kind should be one of 'matched' or 'aligned'. \"\"\"\n",
    "    return os.path.join(RESULTS_PATH, 'lmd_{}'.format(kind),\n",
    "                        msd_id_to_dirs(msd_id), midi_md5 + '.mid')"
   ]
  },
  {
   "cell_type": "code",
   "execution_count": 71,
   "metadata": {
    "collapsed": false
   },
   "outputs": [],
   "source": [
    "\n",
    "def get_best_MIDI(msd_id):\n",
    "    '''\n",
    "    grab a MIDI for a given MSD track ID.\n",
    "    @author georgi, adapted from  craffel\n",
    "    \n",
    "    '''\n",
    "    with open(SCORE_FILE) as f:\n",
    "        scores = json.load(f)\n",
    "\n",
    "        # Grab the dictionary of MIDI matches for a trackID \n",
    "    if msd_id not in scores:\n",
    "        sys.exit('{} is not matched'.format(msd_id))\n",
    "    \n",
    "    pretty_midis_matched = []\n",
    "    \n",
    "#     ######### get MIDI from the matches and check score confidence values\n",
    "    max_score_aligned_MIDI = -1\n",
    "    midi_md5_max = -1\n",
    "    for midi_md5, score in scores[msd_id].items():\n",
    "        print '  {} with confidence score {}'.format(midi_md5, score)\n",
    "        \n",
    "        \n",
    "        # Construct the path to the aligned MIDI\n",
    "        aligned_midi_path = get_midi_path(msd_id, midi_md5, 'aligned')\n",
    "        # Load/parse the MIDI file with pretty_midi\n",
    "        pm = pretty_midi.PrettyMIDI(aligned_midi_path)\n",
    "        \n",
    "        pretty_midis_matched.append(pm)\n",
    "\n",
    "        if score > max_score_aligned_MIDI:\n",
    "            midi_md5_max = midi_md5\n",
    "            max_score_aligned_MIDI = score\n",
    "            pm_max = pm\n",
    "\n",
    "        \n",
    "    if midi_md5_max == -1:\n",
    "        sys.exit('no MIDI match found for midi {}'.format(midi_md5))\n",
    "\n",
    "\n",
    "    return pm_max, pretty_midis_matched"
   ]
  },
  {
   "cell_type": "code",
   "execution_count": 40,
   "metadata": {
    "collapsed": false
   },
   "outputs": [],
   "source": [
    "\n",
    "\n",
    "def derive_note_annotation(midi, WHICH_CHANNEL_VOCAL):\n",
    "    '''\n",
    "    midi:  object of pretty MIDI library \n",
    "    WHICH_CHANNEL_VOCAL: channel of vocal, has to be checked for each track separately\n",
    "    \n",
    "    from http://nbviewer.jupyter.org/github/craffel/midi-dataset/blob/master/Tutorial.ipynb\n",
    "    '''\n",
    "\n",
    "    vocal_channel = midi.instruments[WHICH_CHANNEL_VOCAL]\n",
    "    intervals = np.array([[note.start, note.end] for note in vocal_channel.notes]) # note intervals\n",
    "    notes = np.array([note.pitch for note in vocal_channel.notes]) # MIDI numbers\n",
    "    return intervals, notes \n",
    "\n",
    "def write_notes_to_file(intervals, notes, msd_id):\n",
    "    \n",
    "    URI_MSD_ID = os.path.join(RESULTS_PATH, DATA, msd_id )\n",
    "    if not os.path.exists(URI_MSD_ID):\n",
    "        os.makedirs(URI_MSD_ID)\n",
    "    URI_notes_aligned_output = os.path.join(URI_MSD_ID, 'alignedNotes_vocal.txt') # convetion name for this repo \n",
    "    \n",
    "    ### write to output file\n",
    "    f = open(URI_notes_aligned_output,'wb')\n",
    "    writer = csv.writer(f, delimiter='\\t')\n",
    "\n",
    "    for interval, note in zip(intervals, notes): # read intervals\n",
    "\n",
    "        row = [interval[0]] # onset time\n",
    "        row.append(interval[1]-interval[0]) # duration\n",
    "        row.append(note) # MIDI number\n",
    "        # row.append(0) # satisfy sonic visualiser's format\n",
    "\n",
    "        writer.writerow(row)\n",
    "\n",
    "    f.close()\n",
    "    print 'written file ' + URI_notes_aligned_output"
   ]
  },
  {
   "cell_type": "code",
   "execution_count": 2,
   "metadata": {
    "collapsed": true
   },
   "outputs": [],
   "source": [
    "\n",
    "def derive_beat_annotation(midi):\n",
    "    '''\n",
    "    from http://nbviewer.jupyter.org/github/craffel/midi-dataset/blob/master/Tutorial.ipynb\n",
    "    '''\n",
    "    # Retrieve the beats and downbeats from pretty_midi\n",
    "    # Note that the beat phase will be wrong until the first time signature change after 0s\n",
    "    # So, let's start beat tracking from that point\n",
    "    first_ts_after_0 = [ts.time for ts in midi.time_signature_changes if ts.time > 0.][0]\n",
    "    # Get beats from pretty_midi, supplying a start time\n",
    "    beats = midi.get_beats(start_time=first_ts_after_0)\n",
    "    # .. downbeats, too\n",
    "    downbeats = midi.get_downbeats(start_time=first_ts_after_0)\n",
    "    return beats, downbeats\n",
    "\n",
    "\n",
    "def write_beats_to_file(beats, msd_id):\n",
    "    '''\n",
    "    assumes in 4/4 and that first beat is downbeat (beat 1) \n",
    "    '''\n",
    "    URI_MSD_ID = os.path.join(RESULTS_PATH, DATA, msd_id )\n",
    "    if not os.path.exists(URI_MSD_ID):\n",
    "        os.makedirs(URI_MSD_ID)\n",
    "        \n",
    "    URI_notes_aligned_output = os.path.join(URI_MSD_ID, msd_id + '.beats_tab') # convetion name for this repo \n",
    "    \n",
    "     \n",
    "    BEATS_PER_BAR = 4\n",
    "    ### write to output file\n",
    "    f = open(URI_notes_aligned_output,'wb')\n",
    "    writer = csv.writer(f, delimiter='\\t')\n",
    "    \n",
    "    beat_num = 0 # assume starts at 1\n",
    "    for beat_ts in beats: # read intervals\n",
    "\n",
    "        row = [beat_ts + 0.1] # beat time\n",
    "        beat_num= (beat_num  + 1) % BEATS_PER_BAR\n",
    "        if beat_num == 0: beat_num =+  BEATS_PER_BAR # show last beat (e.g. 4) instead of 0\n",
    "        row.append(beat_num) # beat number\n",
    "\n",
    "        writer.writerow(row)\n",
    "\n",
    "    f.close()\n",
    "    print 'written file ' + URI_notes_aligned_output"
   ]
  },
  {
   "cell_type": "code",
   "execution_count": 103,
   "metadata": {
    "collapsed": false,
    "scrolled": true
   },
   "outputs": [
    {
     "name": "stdout",
     "output_type": "stream",
     "text": [
      "  10a42daf353e2dc8c715f1ca66f9e56d with confidence score 0.721421237699\n",
      "  fe157bdcdd3277e8f94764fc5da80ccf with confidence score 0.561685307601\n",
      "  8ed1d1fc717b3a367d86d534ae0cdedb with confidence score 0.561459143422\n",
      "  316a42f7f290406c180df1507867127c with confidence score 0.558556895816\n",
      "  7240a840651feea36669875e116bb650 with confidence score 0.557931626009\n",
      "  3d711bdaa5a3a410e54887f544f56408 with confidence score 0.561459143422\n",
      "  cef06739cde4aae664f485078391f8a3 with confidence score 0.663122424982\n",
      "  cfc83050843a52f3ebd52eecf85e8ec3 with confidence score 0.561461588695\n",
      "  6d2cc12aea112c3d15c2fc68025d3b5f with confidence score 0.560829282944\n",
      "  dadd48557497a8978efd0f86ac03f221 with confidence score 0.579020226511\n",
      "  d70c0026418bc44997268fd677616bea with confidence score 0.561459143422\n",
      "  bc13574723c8445166f587a2778d518a with confidence score 0.561685307601\n",
      "  c327127ff1a38c7d272b0afd07ef92b1 with confidence score 0.637537295766\n",
      "  7e6a8b6519c6b8e959a435dedfedb2c7 with confidence score 0.581296946602\n",
      "  6d86ef4a07300085cd7d5835a62afc24 with confidence score 0.557716938741\n",
      "  ab72c6578827b0b0775ffd62bc4ba50c with confidence score 0.600110031364\n",
      "  bd076f94a19a25a00202bee6fd21d6c3 with confidence score 0.561685307601\n",
      "  5e2ff284a1e11c211ccb664a66108403 with confidence score 0.561685409125\n",
      "  f615db054cf14bcd26ecce78d592ea87 with confidence score 0.571445035257\n",
      "  463e6956d28765eb0aa9e4cf25640ad9 with confidence score 0.56240978901\n",
      "  c68eae7670b86de7125fb206f7ea3027 with confidence score 0.561688988895\n",
      "  3834ce9255e4316dd276cc7bc3338432 with confidence score 0.664196517599\n",
      "  1d78a66d4922a627ed4f195889613079 with confidence score 0.561685409125\n",
      "  97d54e81c9baa7c051558f5929f7d287 with confidence score 0.61735260304\n",
      "  405e46a4f0c21397932834ca47c2de73 with confidence score 0.557835589281\n",
      "  08689e69fb6896e33d1b633b11894a9f with confidence score 0.556577131865\n",
      "  8ed5776d747aadefd4bf15ab0f84885f with confidence score 0.540579960415\n",
      "  d3db8c4af292c266b2daf5c7ba0e37f9 with confidence score 0.787174528818\n",
      "  27a122776825db04d07401d519f374c4 with confidence score 0.6294527375\n",
      "  6a9213692cd698ca8f3ec9112b0c7383 with confidence score 0.648988906569\n",
      "  f036b4b7bb9c0a0e5db365aaf52e9b11 with confidence score 0.666463828811\n",
      "  41b1510464105e82b72012d9f97ba716 with confidence score 0.561459041377\n",
      "102.282781205\n"
     ]
    }
   ],
   "source": [
    "### 2) get matched MIDI\n",
    "\n",
    "MSD_ID = 'TRALLSG128F425A685' # idx 4 # white flag\n",
    "# MSD_ID = 'TRGWUEG128F4270721' # idx 2 # africa\n",
    "# MSD_ID = 'TRAYOPU128F1464B52';# 73 #sunrise\n",
    "# MSD_ID = 'TRTQHCR128F42640F5' #  81 # smells like\n",
    "# MSD_ID = 'TROEEIY12903CCF25A' # madona  # 75\n",
    "\n",
    "# MSD_ID = 'TRWTFEA128F426E1DC' # etenral flame # 75\n",
    "# MSD_ID = 'TRTRJRT12903D05FC3' # call me #11\n",
    "\n",
    "# MSD_ID ='TRDWUGH128E0788917' # smashing pumpkins\n",
    "\n",
    "MSD_ID ='TRMVKSL128F14640E0' # addicted\n",
    "\n",
    "# MSD_ID ='TRAZASM128F932FBEE' # franz ferdinand\n",
    "\n",
    " \n",
    "MSD_ID ='TRQAGHX128F425EEBD' # michael jackson backup: MSD_ID ='TRYEOWZ128F92CBBC9'\n",
    "\n",
    "# MSD_ID ='TRGTWMB128E078F2E5' # ABBA - dancing, backup: MSD_ID ='TRAMDRT12903CA121C'\n",
    "\n",
    "\n",
    "# MSD_ID ='TRTMWPQ128F4278E76' # notorious big - big poppa \n",
    "\n",
    "midi, all_midis_matched = get_best_MIDI(MSD_ID)\n",
    "\n",
    "### get estimated  tempo\n",
    "import numpy as np\n",
    "print np.median(midi.get_tempo_changes()[1])\n"
   ]
  },
  {
   "cell_type": "code",
   "execution_count": 104,
   "metadata": {
    "collapsed": false
   },
   "outputs": [
    {
     "name": "stdout",
     "output_type": "stream",
     "text": [
      "vocal channel 2 found in midi <pretty_midi.pretty_midi.PrettyMIDI object at 0x10c53d7d0>\n"
     ]
    }
   ],
   "source": [
    "### check which midis need vocal \n",
    "\n",
    "def check_vocal_midi(midi):\n",
    "    WHICH_CHANNEL_VOCAL = -1\n",
    "    for i, instrument in enumerate(midi.instruments):\n",
    "        \n",
    "        if 'vocals' in instrument.name or 'vocal' in instrument.name  or 'MELODY' in instrument.name or 'Melody' in instrument.name or instrument.program == 75:\n",
    "            WHICH_CHANNEL_VOCAL = i; break\n",
    "    return WHICH_CHANNEL_VOCAL\n",
    "    \n",
    "#  check for each track separately where is the vocal\n",
    "WHICH_CHANNEL_VOCAL = check_vocal_midi(midi)\n",
    "if WHICH_CHANNEL_VOCAL != -1:\n",
    "    print 'vocal found in midi' ,str(midi)\n",
    "else:    \n",
    "    for midi in all_midis_matched:\n",
    "        WHICH_CHANNEL_VOCAL = check_vocal_midi(midi)\n",
    "        if WHICH_CHANNEL_VOCAL != -1:\n",
    "            print('vocal channel {} found in midi {}'.format(WHICH_CHANNEL_VOCAL, midi) )\n",
    "            break\n",
    "# print midi.instruments"
   ]
  },
  {
   "cell_type": "code",
   "execution_count": 42,
   "metadata": {
    "collapsed": false
   },
   "outputs": [
    {
     "name": "stdout",
     "output_type": "stream",
     "text": [
      "written file /Users/joro/workspace/lakh_vocal_segments_dataset/data/TRTMWPQ128F4278E76/alignedNotes_vocal.txt\n"
     ]
    }
   ],
   "source": [
    "# 3) derive note annotation\n",
    "# WHICH_CHANNEL_VOCAL = <replace here with channel from https://docs.google.com/spreadsheets/d/1MF9_V2XlzisZNEIDrzpecMUGKRhdc6rFdz9mTWhj-Ts/edit?usp=sharing >\n",
    "intervals, notes  = derive_note_annotation(midi, WHICH_CHANNEL_VOCAL)\n",
    "write_notes_to_file(intervals, notes, MSD_ID)"
   ]
  },
  {
   "cell_type": "code",
   "execution_count": 176,
   "metadata": {
    "collapsed": false
   },
   "outputs": [
    {
     "name": "stdout",
     "output_type": "stream",
     "text": [
      "written file /Users/joro/workspace/lakh_vocal_segments_dataset/data/TRTRJRT12903D05FC3/alignedNotes_vocal.txt\n",
      "written file /Users/joro/workspace/lakh_vocal_segments_dataset/data/TRTRJRT12903D05FC3/TRTRJRT12903D05FC3.beats_tab\n"
     ]
    }
   ],
   "source": [
    "### 4) derive beat annotations\n",
    "beats, downbeats = derive_beat_annotation(midi)\n",
    "write_beats_to_file (beats, MSD_ID)"
   ]
  },
  {
   "cell_type": "code",
   "execution_count": null,
   "metadata": {
    "collapsed": true
   },
   "outputs": [],
   "source": []
  }
 ],
 "metadata": {
  "kernelspec": {
   "display_name": "Python 2",
   "language": "python",
   "name": "python2"
  },
  "language_info": {
   "codemirror_mode": {
    "name": "ipython",
    "version": 2
   },
   "file_extension": ".py",
   "mimetype": "text/x-python",
   "name": "python",
   "nbconvert_exporter": "python",
   "pygments_lexer": "ipython2",
   "version": "2.7.8"
  }
 },
 "nbformat": 4,
 "nbformat_minor": 2
}
