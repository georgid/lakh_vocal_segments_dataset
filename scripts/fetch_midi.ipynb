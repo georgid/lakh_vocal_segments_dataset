{
 "cells": [
  {
   "cell_type": "code",
   "execution_count": 1,
   "metadata": {
    "collapsed": true
   },
   "outputs": [],
   "source": [
    "# Imports\n",
    "import numpy as np\n",
    "import matplotlib.pyplot as plt\n",
    "%matplotlib inline\n",
    "import pretty_midi\n",
    "import librosa\n",
    "import mir_eval\n",
    "# import mir_eval.display\n",
    "#import tables\n",
    "import IPython.display\n",
    "import os\n",
    "import json\n",
    "import csv\n",
    "\n",
    "\n",
    "# Local path constants\n",
    "DATA_PATH = 'data'\n",
    "RESULTS_PATH = '/Users/joro/Downloads/'\n",
    "# Path to the file match_scores.json distributed with the LMD\n",
    "SCORE_FILE = os.path.join(RESULTS_PATH, 'match_scores.json')\n",
    "\n",
    "# Utility functions for retrieving paths\n",
    "def msd_id_to_dirs(msd_id):\n",
    "    \"\"\"Given an MSD ID, generate the path prefix.\n",
    "    E.g. TRABCD12345678 -> A/B/C/TRABCD12345678\"\"\"\n",
    "    return os.path.join(msd_id[2], msd_id[3], msd_id[4], msd_id)\n",
    "\n",
    "def msd_id_to_mp3(msd_id):\n",
    "    \"\"\"Given an MSD ID, return the path to the corresponding mp3\"\"\"\n",
    "    return os.path.join(DATA_PATH, 'msd', 'mp3',\n",
    "                        msd_id_to_dirs(msd_id) + '.mp3')\n",
    "\n",
    "def msd_id_to_h5(h5):\n",
    "    \"\"\"Given an MSD ID, return the path to the corresponding h5\"\"\"\n",
    "    return os.path.join(RESULTS_PATH, 'lmd_matched_h5',\n",
    "                        msd_id_to_dirs(msd_id) + '.h5')\n",
    "\n",
    "def get_midi_path(msd_id, midi_md5, kind):\n",
    "    \"\"\"Given an MSD ID and MIDI MD5, return path to a MIDI file.\n",
    "    kind should be one of 'matched' or 'aligned'. \"\"\"\n",
    "    return os.path.join(RESULTS_PATH, 'lmd_{}'.format(kind),\n",
    "                        msd_id_to_dirs(msd_id), midi_md5 + '.mid')"
   ]
  },
  {
   "cell_type": "code",
   "execution_count": 3,
   "metadata": {
    "collapsed": false
   },
   "outputs": [
    {
     "name": "stdout",
     "output_type": "stream",
     "text": [
      "  76fec7030a2f504186aae20d4983929f with confidence score 0.650326442104\n"
     ]
    }
   ],
   "source": [
    "with open(SCORE_FILE) as f:\n",
    "    scores = json.load(f)\n",
    "    \n",
    "    # Grab an MSD ID and its dictionary of matches\n",
    "# msd_id = 'TRALLSG128F425A685'\n",
    "msd_id = 'TROOCBX128F429648A'\n",
    "matches = scores[msd_id]\n",
    "\n",
    "######### get MIDI from the matches. \n",
    "\n",
    "# grab random one\n",
    "midi_md5, score = matches.popitem()\n",
    "print '  {} with confidence score {}'.format(midi_md5, score)\n",
    "\n",
    "# or check score confidence values\n",
    "# for midi_md5, score in scores[msd_id].items():\n",
    "#     print '  {} with confidence score {}'.format(midi_md5, score)\n",
    "\n",
    "    # Construct the path to the aligned MIDI\n",
    "aligned_midi_path = get_midi_path(msd_id, midi_md5, 'aligned')\n",
    "    # Load/parse the MIDI file with pretty_midi\n",
    "pm = pretty_midi.PrettyMIDI(aligned_midi_path)\n",
    "    # Look for a MIDI file which has lyric and key signature change events\n"
   ]
  },
  {
   "cell_type": "code",
   "execution_count": 6,
   "metadata": {
    "collapsed": false
   },
   "outputs": [
    {
     "name": "stdout",
     "output_type": "stream",
     "text": [
      "written file /Users/joro/Downloads/alignedNotes.txt\n"
     ]
    }
   ],
   "source": [
    "intervals = np.array([[note.start, note.end] for note in pm.instruments[4].notes])\n",
    "notes = np.array([note.pitch for note in pm.instruments[4].notes])\n",
    "\n",
    "URI_notes_aligned_output = os.path.join('/Users/joro/Downloads/','alignedNotes.txt') # convetion name for this repo \n",
    "\n",
    "f = open(URI_notes_aligned_output,'wb')\n",
    "writer = csv.writer(f, delimiter='\\t')\n",
    "work_notes = notes\n",
    "\n",
    "for interval, note in zip(intervals, notes): # read intervals\n",
    "\n",
    "    row = [interval[0]]\n",
    "    row.append(interval[1]-interval[0])\n",
    "    row.append(note)\n",
    "    row.append(0)\n",
    "\n",
    "    writer.writerow(row)\n",
    "    \n",
    "f.close()\n",
    "print 'written file ' + URI_notes_aligned_output"
   ]
  },
  {
   "cell_type": "code",
   "execution_count": null,
   "metadata": {
    "collapsed": true
   },
   "outputs": [],
   "source": []
  }
 ],
 "metadata": {
  "kernelspec": {
   "display_name": "Python 2",
   "language": "python",
   "name": "python2"
  },
  "language_info": {
   "codemirror_mode": {
    "name": "ipython",
    "version": 2
   },
   "file_extension": ".py",
   "mimetype": "text/x-python",
   "name": "python",
   "nbconvert_exporter": "python",
   "pygments_lexer": "ipython2",
   "version": "2.7.8"
  }
 },
 "nbformat": 4,
 "nbformat_minor": 2
}
