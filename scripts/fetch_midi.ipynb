{
 "cells": [
  {
   "cell_type": "code",
   "execution_count": 24,
   "metadata": {
    "collapsed": false
   },
   "outputs": [],
   "source": [
    "####### imports and scripts (from http://colinraffel.com/projects/lmd/)\n",
    "\n",
    "# Imports\n",
    "import numpy as np\n",
    "import matplotlib.pyplot as plt\n",
    "%matplotlib inline\n",
    "import pretty_midi\n",
    "import librosa\n",
    "import mir_eval\n",
    "# import mir_eval.display\n",
    "#import tables\n",
    "import IPython.display\n",
    "import os\n",
    "import json\n",
    "import csv\n",
    "import sys\n",
    "\n",
    "# Local path constants\n",
    "DATA = 'data'\n",
    "RESULTS_PATH = '/Users/joro/workspace/lakh_vocal_segments_dataset/'\n",
    "# Path to the file match_scores.json distributed with the LMD\n",
    "SCORE_FILE = os.path.join(RESULTS_PATH, 'match_scores.json')\n",
    "\n",
    "# Utility functions for retrieving paths\n",
    "def msd_id_to_dirs(msd_id):\n",
    "    \"\"\"Given an MSD ID, generate the path prefix.\n",
    "    E.g. TRABCD12345678 -> A/B/C/TRABCD12345678\"\"\"\n",
    "    return os.path.join(msd_id[2], msd_id[3], msd_id[4], msd_id)\n",
    "\n",
    "def msd_id_to_mp3(msd_id):\n",
    "    \"\"\"Given an MSD ID, return the path to the corresponding mp3\"\"\"\n",
    "    return os.path.join(DATA, 'msd', 'mp3',\n",
    "                        msd_id_to_dirs(msd_id) + '.mp3')\n",
    "\n",
    "def msd_id_to_h5(h5):\n",
    "    \"\"\"Given an MSD ID, return the path to the corresponding h5\"\"\"\n",
    "    return os.path.join(RESULTS_PATH, 'lmd_matched_h5',\n",
    "                        msd_id_to_dirs(msd_id) + '.h5')\n",
    "\n",
    "def get_midi_path(msd_id, midi_md5, kind):\n",
    "    \"\"\"Given an MSD ID and MIDI MD5, return path to a MIDI file.\n",
    "    kind should be one of 'matched' or 'aligned'. \"\"\"\n",
    "    return os.path.join(RESULTS_PATH, 'lmd_{}'.format(kind),\n",
    "                        msd_id_to_dirs(msd_id), midi_md5 + '.mid')"
   ]
  },
  {
   "cell_type": "code",
   "execution_count": 56,
   "metadata": {
    "collapsed": false
   },
   "outputs": [],
   "source": [
    "\n",
    "def get_best_MIDI(msd_id):\n",
    "    '''\n",
    "    grab a MIDI for a given MSD track ID.\n",
    "    @author georgi, adapted from  craffel\n",
    "    \n",
    "    '''\n",
    "    with open(SCORE_FILE) as f:\n",
    "        scores = json.load(f)\n",
    "\n",
    "        # Grab the dictionary of MIDI matches for a trackID \n",
    "    if msd_id not in scores:\n",
    "        sys.exit('{} is not matched'.format(msd_id))\n",
    "    matches = scores[msd_id]\n",
    "\n",
    "#     ######### get MIDI from the matches. \n",
    "#     # grab a random one\n",
    "#     midi_md5, score = matches.popitem()\n",
    "#     print '  {} with confidence score {}'.format(midi_md5, score)\n",
    "\n",
    "    # or check score confidence values\n",
    "    max_score_aligned_MIDI = -1\n",
    "    midi_md5_max = -1\n",
    "    for midi_md5, score in scores[msd_id].items():\n",
    "        print '  {} with confidence score {}'.format(midi_md5, score)\n",
    "        if score > max_score_aligned_MIDI:\n",
    "            midi_md5_max = midi_md5\n",
    "    if midi_md5_max == -1:\n",
    "        sys.exit('no MIDI match found for midi {}'.format(midi_md5))\n",
    "\n",
    "        # Construct the path to the aligned MIDI\n",
    "    aligned_midi_path = get_midi_path(msd_id, midi_md5_max, 'aligned')\n",
    "        # Load/parse the MIDI file with pretty_midi\n",
    "    pm = pretty_midi.PrettyMIDI(aligned_midi_path)\n",
    "    return pm"
   ]
  },
  {
   "cell_type": "code",
   "execution_count": 156,
   "metadata": {
    "collapsed": false
   },
   "outputs": [],
   "source": [
    "\n",
    "\n",
    "def derive_note_annotation(midi, WHICH_CHANNEL_VOCAL):\n",
    "    '''\n",
    "    midi:  object of pretty MIDI library \n",
    "    WHICH_CHANNEL_VOCAL: channel of vocal, has to be checked for each track separately\n",
    "    \n",
    "    from http://nbviewer.jupyter.org/github/craffel/midi-dataset/blob/master/Tutorial.ipynb\n",
    "    '''\n",
    "\n",
    "    vocal_channel = midi.instruments[WHICH_CHANNEL_VOCAL]\n",
    "    intervals = np.array([[note.start, note.end] for note in vocal_channel.notes]) # note intervals\n",
    "    notes = np.array([note.pitch for note in vocal_channel.notes]) # MIDI numbers\n",
    "    return intervals, notes \n",
    "\n",
    "def write_notes_to_file(intervals, notes, msd_id):\n",
    "    \n",
    "    URI_MSD_ID = os.path.join(RESULTS_PATH, DATA, msd_id )\n",
    "    if not os.path.exists(URI_MSD_ID):\n",
    "        os.makedirs(URI_MSD_ID)\n",
    "    URI_notes_aligned_output = os.path.join(URI_MSD_ID, 'alignedNotes_vocal.txt') # convetion name for this repo \n",
    "    \n",
    "    ### write to output file\n",
    "    f = open(URI_notes_aligned_output,'wb')\n",
    "    writer = csv.writer(f, delimiter='\\t')\n",
    "\n",
    "    for interval, note in zip(intervals, notes): # read intervals\n",
    "\n",
    "        row = [interval[0]] # onset time\n",
    "        row.append(interval[1]-interval[0]) # duration\n",
    "        row.append(note) # MIDI number\n",
    "        # row.append(0) # satisfy sonic visualiser's format\n",
    "\n",
    "        writer.writerow(row)\n",
    "\n",
    "    f.close()\n",
    "    print 'written file ' + URI_notes_aligned_output"
   ]
  },
  {
   "cell_type": "code",
   "execution_count": 85,
   "metadata": {
    "collapsed": true
   },
   "outputs": [],
   "source": [
    "\n",
    "def derive_beat_annotation(midi):\n",
    "    '''\n",
    "    from http://nbviewer.jupyter.org/github/craffel/midi-dataset/blob/master/Tutorial.ipynb\n",
    "    '''\n",
    "    # Retrieve the beats and downbeats from pretty_midi\n",
    "    # Note that the beat phase will be wrong until the first time signature change after 0s\n",
    "    # So, let's start beat tracking from that point\n",
    "    first_ts_after_0 = [ts.time for ts in midi.time_signature_changes if ts.time > 0.][0]\n",
    "    # Get beats from pretty_midi, supplying a start time\n",
    "    beats = midi.get_beats(start_time=first_ts_after_0)\n",
    "    # .. downbeats, too\n",
    "    downbeats = midi.get_downbeats(start_time=first_ts_after_0)\n",
    "    return beats, downbeats\n",
    "\n",
    "\n",
    "def write_beats_to_file(beats, msd_id):\n",
    "    '''\n",
    "    assumes in 4/4 and that first beat is downbeat (beat 1) \n",
    "    '''\n",
    "    URI_MSD_ID = os.path.join(RESULTS_PATH, DATA, msd_id )\n",
    "    if not os.path.exists(URI_MSD_ID):\n",
    "        os.makedirs(URI_MSD_ID)\n",
    "        \n",
    "    URI_notes_aligned_output = os.path.join(URI_MSD_ID, msd_id + '.beats_tab') # convetion name for this repo \n",
    "    \n",
    "     \n",
    "    BEATS_PER_BAR = 4\n",
    "    ### write to output file\n",
    "    f = open(URI_notes_aligned_output,'wb')\n",
    "    writer = csv.writer(f, delimiter='\\t')\n",
    "    \n",
    "    beat_num = 0 # assume starts at 1\n",
    "    for beat_ts in beats: # read intervals\n",
    "\n",
    "        row = [beat_ts + 0.1] # beat time\n",
    "        beat_num= (beat_num  + 1) % BEATS_PER_BAR\n",
    "        if beat_num == 0: beat_num =+  BEATS_PER_BAR # show last beat (e.g. 4) instead of 0\n",
    "        row.append(beat_num) # beat number\n",
    "\n",
    "        writer.writerow(row)\n",
    "\n",
    "    f.close()\n",
    "    print 'written file ' + URI_notes_aligned_output"
   ]
  },
  {
   "cell_type": "code",
   "execution_count": 189,
   "metadata": {
    "collapsed": false,
    "scrolled": true
   },
   "outputs": [
    {
     "name": "stdout",
     "output_type": "stream",
     "text": [
      "  904017ae5e1ceb7ab2c17022c8db49d9 with confidence score 0.503956787309\n",
      "86.1328915673\n"
     ]
    }
   ],
   "source": [
    "### 2) get matched MIDI\n",
    "\n",
    "MSD_ID = 'TRALLSG128F425A685' # idx 4 # white flag\n",
    "# MSD_ID = 'TRGWUEG128F4270721' # idx 2 # africa\n",
    "# MSD_ID = 'TRAYOPU128F1464B52';# 73 #sunrise\n",
    "# MSD_ID = 'TRTQHCR128F42640F5' #  81 # smells like\n",
    "# MSD_ID = 'TROEEIY12903CCF25A' # madona  # 75\n",
    "\n",
    "# MSD_ID = 'TRWTFEA128F426E1DC' # etenral # 75\n",
    "# MSD_ID = 'TRTRJRT12903D05FC3' # call #11\n",
    "midi = get_best_MIDI(MSD_ID)\n",
    "\n",
    "### get estimated  tempo\n",
    "import numpy as np\n",
    "print np.median(midi.get_tempo_changes()[1])\n"
   ]
  },
  {
   "cell_type": "code",
   "execution_count": null,
   "metadata": {
    "collapsed": true
   },
   "outputs": [],
   "source": [
    "### 3) derive note onset annotations\n",
    "#  check for each track separately where is the vocal\n",
    "WHICH_CHANNEL_VOCAL = -1\n",
    "for i, instrument in enumerate(midi.instruments):\n",
    "    print instrument.name\n",
    "    if instrument.name == 'vocals' or instrument.name == 'MELODY' or instrument.program == 75:\n",
    "        WHICH_CHANNEL_VOCAL = i; break\n",
    "\n",
    "# print midi.instruments\n",
    "# WHICH_CHANNEL_VOCAL = 12\n",
    "intervals, notes  = derive_note_annotation(midi, WHICH_CHANNEL_VOCAL)\n",
    "write_notes_to_file(intervals, notes, MSD_ID)"
   ]
  },
  {
   "cell_type": "code",
   "execution_count": 176,
   "metadata": {
    "collapsed": false
   },
   "outputs": [
    {
     "name": "stdout",
     "output_type": "stream",
     "text": [
      "written file /Users/joro/workspace/lakh_vocal_segments_dataset/data/TRTRJRT12903D05FC3/alignedNotes_vocal.txt\n",
      "written file /Users/joro/workspace/lakh_vocal_segments_dataset/data/TRTRJRT12903D05FC3/TRTRJRT12903D05FC3.beats_tab\n"
     ]
    }
   ],
   "source": [
    "### 4) derive beat annotations\n",
    "beats, downbeats = derive_beat_annotation(midi)\n",
    "write_beats_to_file (beats, MSD_ID)"
   ]
  },
  {
   "cell_type": "code",
   "execution_count": null,
   "metadata": {
    "collapsed": true
   },
   "outputs": [],
   "source": []
  }
 ],
 "metadata": {
  "kernelspec": {
   "display_name": "Python 2",
   "language": "python",
   "name": "python2"
  },
  "language_info": {
   "codemirror_mode": {
    "name": "ipython",
    "version": 2
   },
   "file_extension": ".py",
   "mimetype": "text/x-python",
   "name": "python",
   "nbconvert_exporter": "python",
   "pygments_lexer": "ipython2",
   "version": "2.7.8"
  }
 },
 "nbformat": 4,
 "nbformat_minor": 2
}
